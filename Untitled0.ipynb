{
  "nbformat": 4,
  "nbformat_minor": 0,
  "metadata": {
    "colab": {
      "provenance": [],
      "authorship_tag": "ABX9TyPwUcMQqcABuqIbbIQbF+7o",
      "include_colab_link": true
    },
    "kernelspec": {
      "name": "python3",
      "display_name": "Python 3"
    },
    "language_info": {
      "name": "python"
    }
  },
  "cells": [
    {
      "cell_type": "markdown",
      "metadata": {
        "id": "view-in-github",
        "colab_type": "text"
      },
      "source": [
        "<a href=\"https://colab.research.google.com/github/LMG132/test1/blob/LMG132%2Fmaster/Untitled0.ipynb\" target=\"_parent\"><img src=\"https://colab.research.google.com/assets/colab-badge.svg\" alt=\"Open In Colab\"/></a>"
      ]
    },
    {
      "cell_type": "code",
      "source": [
        "!pip install line-bot-sdk\n",
        "!pip install flask"
      ],
      "metadata": {
        "colab": {
          "base_uri": "https://localhost:8080/"
        },
        "id": "Qa8qocqBIPc6",
        "outputId": "a0b9d25f-14b6-4702-e94d-54a321db6228"
      },
      "execution_count": null,
      "outputs": [
        {
          "output_type": "stream",
          "name": "stdout",
          "text": [
            "Looking in indexes: https://pypi.org/simple, https://us-python.pkg.dev/colab-wheels/public/simple/\n",
            "Collecting line-bot-sdk\n",
            "  Downloading line_bot_sdk-2.3.0-py2.py3-none-any.whl (88 kB)\n",
            "\u001b[K     |████████████████████████████████| 88 kB 3.9 MB/s \n",
            "\u001b[?25hRequirement already satisfied: requests>=2.0 in /usr/local/lib/python3.7/dist-packages (from line-bot-sdk) (2.23.0)\n",
            "Requirement already satisfied: future in /usr/local/lib/python3.7/dist-packages (from line-bot-sdk) (0.16.0)\n",
            "Requirement already satisfied: aiohttp>=3.7.4 in /usr/local/lib/python3.7/dist-packages (from line-bot-sdk) (3.8.3)\n",
            "Requirement already satisfied: attrs>=17.3.0 in /usr/local/lib/python3.7/dist-packages (from aiohttp>=3.7.4->line-bot-sdk) (22.1.0)\n",
            "Requirement already satisfied: asynctest==0.13.0 in /usr/local/lib/python3.7/dist-packages (from aiohttp>=3.7.4->line-bot-sdk) (0.13.0)\n",
            "Requirement already satisfied: async-timeout<5.0,>=4.0.0a3 in /usr/local/lib/python3.7/dist-packages (from aiohttp>=3.7.4->line-bot-sdk) (4.0.2)\n",
            "Requirement already satisfied: aiosignal>=1.1.2 in /usr/local/lib/python3.7/dist-packages (from aiohttp>=3.7.4->line-bot-sdk) (1.3.1)\n",
            "Requirement already satisfied: frozenlist>=1.1.1 in /usr/local/lib/python3.7/dist-packages (from aiohttp>=3.7.4->line-bot-sdk) (1.3.3)\n",
            "Requirement already satisfied: multidict<7.0,>=4.5 in /usr/local/lib/python3.7/dist-packages (from aiohttp>=3.7.4->line-bot-sdk) (6.0.2)\n",
            "Requirement already satisfied: typing-extensions>=3.7.4 in /usr/local/lib/python3.7/dist-packages (from aiohttp>=3.7.4->line-bot-sdk) (4.1.1)\n",
            "Requirement already satisfied: charset-normalizer<3.0,>=2.0 in /usr/local/lib/python3.7/dist-packages (from aiohttp>=3.7.4->line-bot-sdk) (2.1.1)\n",
            "Requirement already satisfied: yarl<2.0,>=1.0 in /usr/local/lib/python3.7/dist-packages (from aiohttp>=3.7.4->line-bot-sdk) (1.8.1)\n",
            "Requirement already satisfied: chardet<4,>=3.0.2 in /usr/local/lib/python3.7/dist-packages (from requests>=2.0->line-bot-sdk) (3.0.4)\n",
            "Requirement already satisfied: urllib3!=1.25.0,!=1.25.1,<1.26,>=1.21.1 in /usr/local/lib/python3.7/dist-packages (from requests>=2.0->line-bot-sdk) (1.24.3)\n",
            "Requirement already satisfied: idna<3,>=2.5 in /usr/local/lib/python3.7/dist-packages (from requests>=2.0->line-bot-sdk) (2.10)\n",
            "Requirement already satisfied: certifi>=2017.4.17 in /usr/local/lib/python3.7/dist-packages (from requests>=2.0->line-bot-sdk) (2022.9.24)\n",
            "Installing collected packages: line-bot-sdk\n",
            "Successfully installed line-bot-sdk-2.3.0\n",
            "Looking in indexes: https://pypi.org/simple, https://us-python.pkg.dev/colab-wheels/public/simple/\n",
            "Requirement already satisfied: flask in /usr/local/lib/python3.7/dist-packages (1.1.4)\n",
            "Requirement already satisfied: click<8.0,>=5.1 in /usr/local/lib/python3.7/dist-packages (from flask) (7.1.2)\n",
            "Requirement already satisfied: itsdangerous<2.0,>=0.24 in /usr/local/lib/python3.7/dist-packages (from flask) (1.1.0)\n",
            "Requirement already satisfied: Werkzeug<2.0,>=0.15 in /usr/local/lib/python3.7/dist-packages (from flask) (1.0.1)\n",
            "Requirement already satisfied: Jinja2<3.0,>=2.10.1 in /usr/local/lib/python3.7/dist-packages (from flask) (2.11.3)\n",
            "Requirement already satisfied: MarkupSafe>=0.23 in /usr/local/lib/python3.7/dist-packages (from Jinja2<3.0,>=2.10.1->flask) (2.0.1)\n"
          ]
        }
      ]
    },
    {
      "cell_type": "code",
      "source": [
        "from flask import Flask, request, abort\n",
        "\n",
        "from linebot import (\n",
        "   LineBotApi, WebhookHandler\n",
        ")\n",
        "from linebot.exceptions import (\n",
        "   InvalidSignatureError\n",
        ")\n",
        "from linebot.models import (\n",
        "   MessageEvent, TextMessage, TextSendMessage,\n",
        ")\n",
        "\n",
        "import os\n",
        "\n",
        "app = Flask(__name__)\n",
        "\n",
        "YOUR_CHANNEL_ACCESS_TOKEN = os.environ[\"vIV8SPsgcRtRF8+WghOq9GaeGoawGRL4ZKEceP9oDZKPrLKV4HJT95la0itgD+lOO18Qvn7w8tsdj8nOngTEQ+UutE9WsdSo0bTCDhVPHZCQ0/7IWpKn8/P6KqZa9MdqEJnHbiInKomyvAe0MBhrggdB04t89/1O/w1cDnyilFU=\"]\n",
        "YOUR_CHANNEL_SECRET = os.environ[\"a5a6bf014676584a064c34558dcf2b1d\"]\n",
        "\n",
        "line_bot_api = LineBotApi(YOUR_CHANNEL_ACCESS_TOKEN)\n",
        "handler = WebhookHandler(YOUR_CHANNEL_SECRET)\n",
        "\n",
        "@app.route(\"/\")\n",
        "def hello_world():\n",
        "   return \"hello world!\"\n",
        "\n",
        "@app.route(\"/callback\", methods=['POST'])\n",
        "def callback():\n",
        "   # get X-Line-Signature header value\n",
        "   signature = request.headers['X-Line-Signature']\n",
        "\n",
        "   # get request body as text\n",
        "   body = request.get_data(as_text=True)\n",
        "   app.logger.info(\"Request body: \" + body)\n",
        "\n",
        "   # handle webhook body\n",
        "   try:\n",
        "       handler.handle(body, signature)\n",
        "   except InvalidSignatureError:\n",
        "       print(\"Invalid signature. Please check your channel access token/channel secret.\")\n",
        "       abort(400)\n",
        "\n",
        "   return 'OK'\n",
        "\n",
        "@handler.add(MessageEvent, message=TextMessage)\n",
        "def handle_message(event):\n",
        "   line_bot_api.reply_message(\n",
        "       event.reply_token,\n",
        "       TextSendMessage(text=event.message.text))\n",
        "\n",
        "if __name__ == \"__main__\":\n",
        "   port = int(os.getenv(\"PORT\"))\n",
        "   app.run(host=\"0.0.0.0\", port=port)"
      ],
      "metadata": {
        "id": "x7pO9LcqK2kv"
      },
      "execution_count": null,
      "outputs": []
    }
  ]
}